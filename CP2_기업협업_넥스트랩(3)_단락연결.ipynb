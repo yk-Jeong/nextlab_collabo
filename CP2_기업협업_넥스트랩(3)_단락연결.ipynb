{
  "nbformat": 4,
  "nbformat_minor": 0,
  "metadata": {
    "colab": {
      "name": "CP2_기업협업_넥스트랩(3)_단락연결.ipynb",
      "provenance": [],
      "collapsed_sections": [
        "AcDjq2xnHSrD"
      ],
      "authorship_tag": "ABX9TyPK7wQb96c162YNwOXteDoN",
      "include_colab_link": true
    },
    "kernelspec": {
      "name": "python3",
      "display_name": "Python 3"
    },
    "language_info": {
      "name": "python"
    }
  },
  "cells": [
    {
      "cell_type": "markdown",
      "metadata": {
        "id": "view-in-github",
        "colab_type": "text"
      },
      "source": [
        "<a href=\"https://colab.research.google.com/github/yk-Jeong/nextlab_collabo/blob/main/CP2_%EA%B8%B0%EC%97%85%ED%98%91%EC%97%85_%EB%84%A5%EC%8A%A4%ED%8A%B8%EB%9E%A9(3)_%EB%8B%A8%EB%9D%BD%EC%97%B0%EA%B2%B0.ipynb\" target=\"_parent\"><img src=\"https://colab.research.google.com/assets/colab-badge.svg\" alt=\"Open In Colab\"/></a>"
      ]
    },
    {
      "cell_type": "markdown",
      "source": [
        "######초기 아이디어 메모\n",
        "\n",
        "\n",
        "**단락 연결 여부 확인 알고리즘**\n",
        "\n",
        "1) 동일문장 여부 판별(이중분류?) -> 띄어쓰기 없는 경우, 마침표 없는 경우 무조건 동일한 문장일 것. \n",
        "<br>\n",
        "2) 문장간 연결성 파악(응집성 개념 활용?)\n",
        "<br>\n",
        "\n",
        "---- 1, 2는 사실상 같은 개념 아닌지? <br>\n",
        "3) 단락 유사도 파악(코사인 유사도?)"
      ],
      "metadata": {
        "id": "AcDjq2xnHSrD"
      }
    },
    {
      "cell_type": "markdown",
      "source": [
        "라이브러리 로드"
      ],
      "metadata": {
        "id": "Iwtjnq390LA4"
      }
    },
    {
      "cell_type": "code",
      "source": [
        "import pandas as pd\n",
        "import numpy as np"
      ],
      "metadata": {
        "id": "0zP90c5DHReF"
      },
      "execution_count": null,
      "outputs": []
    },
    {
      "cell_type": "markdown",
      "source": [
        "####3.  단락 유사도 파악\n",
        "\n",
        "참고: https://wikidocs.net/76349\n",
        "\n",
        "---\n",
        "\n"
      ],
      "metadata": {
        "id": "aZ5nQzidqG2N"
      }
    },
    {
      "cell_type": "code",
      "source": [
        "!pip install konlpy"
      ],
      "metadata": {
        "colab": {
          "base_uri": "https://localhost:8080/"
        },
        "id": "Qjgag64vLjN9",
        "outputId": "bb81e67c-c989-460d-8597-26dcc74d976b"
      },
      "execution_count": null,
      "outputs": [
        {
          "output_type": "stream",
          "name": "stdout",
          "text": [
            "Requirement already satisfied: konlpy in /usr/local/lib/python3.7/dist-packages (0.6.0)\n",
            "Requirement already satisfied: lxml>=4.1.0 in /usr/local/lib/python3.7/dist-packages (from konlpy) (4.2.6)\n",
            "Requirement already satisfied: numpy>=1.6 in /usr/local/lib/python3.7/dist-packages (from konlpy) (1.21.5)\n",
            "Requirement already satisfied: JPype1>=0.7.0 in /usr/local/lib/python3.7/dist-packages (from konlpy) (1.3.0)\n",
            "Requirement already satisfied: typing-extensions in /usr/local/lib/python3.7/dist-packages (from JPype1>=0.7.0->konlpy) (3.10.0.2)\n"
          ]
        }
      ]
    },
    {
      "cell_type": "code",
      "source": [
        "from konlpy.tag import Twitter\n",
        "from sklearn.feature_extraction.text import TfidfVectorizer\n",
        "from sklearn.metrics.pairwise import cosine_similarity"
      ],
      "metadata": {
        "id": "HeuZJInVEG5Q"
      },
      "execution_count": null,
      "outputs": []
    },
    {
      "cell_type": "code",
      "source": [
        "X_data = np.array(['캐나다 리신 판 감독의 ‘집으로 가는 기차’(Last Train Home)가 제7회 EBS국제멘터리영화제의 대상으로 선정됐다. 리신 판 감독은 지난 28일 EBS 스페이스홀에서 열린 ‘제7회 EBS국제다큐영화제’ 시상식에서, 총 12편의 경쟁작을 물리치고 당당하게 대상 트로피를 거머쥐었다. 페페 단크바르트 심사위원장은 “뛰어난 연출력과 함께 스토리가 돋보였다. 느리지만 효과적인 방법으로 현대의 사회적, 경제적 문제를 지적한다”라며 “관객들 역시 중국 이주 노동자들의 고난과 어려움, 그리고 노동의 결과가 지구 반대편의 사람들이 편안한 삶을 영위하는데 어떤 도움을 주는지에 대해 공감할 수 있을 것”이라고 대상 선정 배경을 설명했다. ',\n",
        "'리신 판 감독은 “오늘도 공장에서 힘들게 일하는 이주노동자 뿐 아니라 3년이 넘는 기간 동안 저와 우리 모두를 위해 진실한 모습을 보여준 주인공 가족에게 감사하다”며 “다음에 더 좋은 작품으로 찾아뵙겠다”고 수상 소감을 밝혔다. ‘집으로 가는 기차’는 중국공장노동자인 장의 가족이 겪는 갈등과 소통의 문제에 대해 다룬 작품이다. 한편 ‘다큐멘터리 정신상’은 야크 킬미 감독의 ‘디스코와 핵전쟁’에게 돌아갔다. 또 ‘심사위원 특별상’은 크리스티안 프라이 감독의 ‘스페이스 투어리스트’가 받았다. 올해 신설된 ‘UNICEF 특별상’은 이승준 감독의 ‘달팽이의 별’에게 돌아갔다.‘달팽이의 별’은 시청자 특별심사단의 평가와 온라인, 극장 별점 평가로 선정하는 ‘시청자상’도 수상했다.', \n",
        "'공민왕이 격정의 시기에 어느 누구한테도 마음을 열 수 없는 상태에서 호위무사 홍림과의 관계, 홍림에 대한 애정, 왕의 호위무사로서의 홍림, 왕의 명령을 거역할 수 없어 왕비와 합궁을 해야만 하는 홍림, 왕비이면서도 왕과 홍림 사이에 끼어 들 수 없던 왕비, 지아비가 아닌 홍림과 합궁을 할 수 밖에 없었던 비운의 왕비. 이 세사람의 거역할 수 없는 운명에 마음이 아팠다.인간적인 고뇌, 원하지 않으면서도 거역할 수 없는 비운에 가슴이 저렸고, 합궁 이후 인간으로서의 욕망에 눈뜨면서 벌어지는 비극에 다시 한 번 가슴이 저며왔다.공민왕의 비장한 얼굴 표정이나 사랑했던 홍림에게 배신을 당하고 홍림을 찾아 광기를 부리는 공민왕의 모습이나 사랑하게 된 홍림을 찾아으면서도 왕비로서의 위엄있는 모습을 지키면서도 홍림과 서로 사랑하는 모습에서는 영화 속에 녹아들어 오버연기나 군더더기 모습은 별로 보이지 않는다.요즘 여러 영화에서 수위 높은 노출신으로 왈가왈부중이지만 쌍화점에선 그리 추해보이지 않는 것은 감독의 수준높은 연출 때문일까?연기자들의 눈부신 연기력때문일까?'])"
      ],
      "metadata": {
        "id": "c0LUPGkyL7fi"
      },
      "execution_count": null,
      "outputs": []
    },
    {
      "cell_type": "code",
      "source": [
        "twitter = Twitter()"
      ],
      "metadata": {
        "colab": {
          "base_uri": "https://localhost:8080/"
        },
        "id": "FzjcyKeqL7dV",
        "outputId": "f8cb1ef1-aad2-4803-9a2a-2c559c1f2509"
      },
      "execution_count": null,
      "outputs": [
        {
          "output_type": "stream",
          "name": "stderr",
          "text": [
            "/usr/local/lib/python3.7/dist-packages/konlpy/tag/_okt.py:17: UserWarning: \"Twitter\" has changed to \"Okt\" since KoNLPy v0.4.5.\n",
            "  warn('\"Twitter\" has changed to \"Okt\" since KoNLPy v0.4.5.')\n"
          ]
        }
      ]
    },
    {
      "cell_type": "code",
      "source": [
        "for i, document in enumerate(X_data):\n",
        "  nouns = twitter.nouns(document)\n",
        "  X_data[i] = ' '.join(nouns) #space 필요"
      ],
      "metadata": {
        "id": "DrswfB59L7YG"
      },
      "execution_count": null,
      "outputs": []
    },
    {
      "cell_type": "code",
      "source": [
        "print(X_data)"
      ],
      "metadata": {
        "colab": {
          "base_uri": "https://localhost:8080/"
        },
        "id": "j9YEQ7IWL7VL",
        "outputId": "e282f390-336c-49f9-909e-52bf3edef224"
      },
      "execution_count": null,
      "outputs": [
        {
          "output_type": "stream",
          "name": "stdout",
          "text": [
            "['캐나다 리신 판 감독 집 기차 제 국제 터리 영화제 대상 선정 리신 판 감독 지난 스페이스 홀 제 국제 다큐 영화제 시상식 총 편의 경쟁 작 물리 대상 트로피 거머 페페 단 바르트 심사 위원장 연출 스토리 효과 방법 현대 사회 경제 문제 지적 라며 관객 역시 중국 이주 노동자 고난 어려움 노동 결과 지구 반대편 사람 삶 영위 도움 대해 공감 수 것 대상 선정 배경 설명'\n",
            " '리신 판 감독 오늘 공장 일 이주 노동자 뿐 기간 동안 저 우리 모두 위해 모습 주인공 가족 며 다음 더 작품 고 수상 소감 집 기차 중국 공장 노동자 장의 가족 갈등 소통 문제 대해 작품 한편 다큐멘터리 정신 은 야크 킬미 감독 디스코 핵전쟁 또 심사 위원 특별상 은 크리스 티안 프라이 감독 스페이스 투어리스트 올해 신설 특별상 은 이승준 감독 달팽이 별 달팽이 별 은 시청자 특별심사 단 평가 온라인 극장 점 평가 선정 시청자 도'\n",
            " '공민왕 격정 시기 누구 도 마음 열 수 상태 호위 무사 홍림 관계 홍림 대한 애정 왕 호위 무사 로서 홍림 왕 명령 거 역할 수 왕비 합궁 홍림 왕비 왕 홍림 사이 수 왕비 지아비 홍림 합궁 수 비운 왕비 이 사람 거 역할 수 운명 마음 인간 고뇌 거 역할 수 비운 가슴 합궁 이후 인간 욕망 비극 다시 번 가슴 며 공민왕 얼굴 표정 사랑 홍림 배신 홍림 광기 공민왕 모습 사랑 홍림 왕비 로서 위엄 모습 홍림 서로 사랑 모습 영화 속 오버 연기 군더더기 모습 별로 보이지 요즘 여러 영화 수위 노 출신 왈가 왈부 쌍화점 보이지 것 감독 수준 연출 때문 연기자 연기력 때문']\n"
          ]
        }
      ]
    },
    {
      "cell_type": "code",
      "source": [
        "vect = TfidfVectorizer()"
      ],
      "metadata": {
        "id": "XU_NBISuMtgH"
      },
      "execution_count": null,
      "outputs": []
    },
    {
      "cell_type": "code",
      "source": [
        "X_data = vect.fit_transform(X_data)"
      ],
      "metadata": {
        "id": "7AqZIdWLMtaM"
      },
      "execution_count": null,
      "outputs": []
    },
    {
      "cell_type": "code",
      "source": [
        "print(X_data)"
      ],
      "metadata": {
        "colab": {
          "base_uri": "https://localhost:8080/"
        },
        "id": "90bzn8-UMtX9",
        "outputId": "0050688b-2731-4487-a4d8-76cae5f33222"
      },
      "execution_count": null,
      "outputs": [
        {
          "output_type": "stream",
          "name": "stdout",
          "text": [
            "  (0, 63)\t0.12618208658162253\n",
            "  (0, 50)\t0.12618208658162253\n",
            "  (0, 11)\t0.12618208658162253\n",
            "  (0, 32)\t0.09596472924579345\n",
            "  (0, 33)\t0.12618208658162253\n",
            "  (0, 88)\t0.12618208658162253\n",
            "  (0, 56)\t0.09596472924579345\n",
            "  (0, 48)\t0.12618208658162253\n",
            "  (0, 115)\t0.12618208658162253\n",
            "  (0, 6)\t0.12618208658162253\n",
            "  (0, 22)\t0.12618208658162253\n",
            "  (0, 79)\t0.12618208658162253\n",
            "  (0, 9)\t0.12618208658162253\n",
            "  (0, 23)\t0.09596472924579345\n",
            "  (0, 107)\t0.09596472924579345\n",
            "  (0, 114)\t0.09596472924579345\n",
            "  (0, 82)\t0.12618208658162253\n",
            "  (0, 14)\t0.12618208658162253\n",
            "  (0, 37)\t0.12618208658162253\n",
            "  (0, 118)\t0.12618208658162253\n",
            "  (0, 45)\t0.09596472924579345\n",
            "  (0, 8)\t0.12618208658162253\n",
            "  (0, 59)\t0.12618208658162253\n",
            "  (0, 137)\t0.12618208658162253\n",
            "  (0, 49)\t0.12618208658162253\n",
            "  :\t:\n",
            "  (2, 101)\t0.06353080940225472\n",
            "  (2, 55)\t0.12706161880450945\n",
            "  (2, 117)\t0.06353080940225472\n",
            "  (2, 58)\t0.06353080940225472\n",
            "  (2, 135)\t0.19059242820676417\n",
            "  (2, 97)\t0.3176540470112736\n",
            "  (2, 83)\t0.19059242820676417\n",
            "  (2, 41)\t0.06353080940225472\n",
            "  (2, 38)\t0.12706161880450945\n",
            "  (2, 77)\t0.06353080940225472\n",
            "  (2, 31)\t0.06353080940225472\n",
            "  (2, 15)\t0.06353080940225472\n",
            "  (2, 139)\t0.6353080940225472\n",
            "  (2, 44)\t0.12706161880450945\n",
            "  (2, 138)\t0.12706161880450945\n",
            "  (2, 60)\t0.06353080940225472\n",
            "  (2, 40)\t0.12706161880450945\n",
            "  (2, 24)\t0.06353080940225472\n",
            "  (2, 71)\t0.06353080940225472\n",
            "  (2, 5)\t0.06353080940225472\n",
            "  (2, 12)\t0.19059242820676417\n",
            "  (2, 43)\t0.19326727234328125\n",
            "  (2, 56)\t0.048316818085820314\n",
            "  (2, 87)\t0.048316818085820314\n",
            "  (2, 3)\t0.037522319460287126\n"
          ]
        }
      ]
    },
    {
      "cell_type": "code",
      "source": [
        "cosine_similarity_matrix = (X_data * X_data.T)\n",
        "print(cosine_similarity_matrix.shape)"
      ],
      "metadata": {
        "colab": {
          "base_uri": "https://localhost:8080/"
        },
        "id": "CrqtOXG3MtS3",
        "outputId": "6adba51b-3a11-4289-d96f-ff38b3ce339a"
      },
      "execution_count": null,
      "outputs": [
        {
          "output_type": "stream",
          "name": "stdout",
          "text": [
            "(3, 3)\n"
          ]
        }
      ]
    },
    {
      "cell_type": "code",
      "source": [
        "print(cosine_similarity_matrix)"
      ],
      "metadata": {
        "colab": {
          "base_uri": "https://localhost:8080/"
        },
        "id": "Q2DM_EAWSoGe",
        "outputId": "0064760e-0f65-4796-de9b-1b7e5195a3e7"
      },
      "execution_count": null,
      "outputs": [
        {
          "output_type": "stream",
          "name": "stdout",
          "text": [
            "  (0, 2)\t0.01486613543111886\n",
            "  (0, 1)\t0.1525964696702627\n",
            "  (0, 0)\t1.0\n",
            "  (1, 0)\t0.1525964696702627\n",
            "  (1, 2)\t0.027639259946878603\n",
            "  (1, 1)\t1.0000000000000002\n",
            "  (2, 0)\t0.01486613543111886\n",
            "  (2, 1)\t0.027639259946878603\n",
            "  (2, 2)\t0.9999999999999998\n"
          ]
        }
      ]
    },
    {
      "cell_type": "code",
      "source": [
        "print(cosine_similarity_matrix.toarray())"
      ],
      "metadata": {
        "colab": {
          "base_uri": "https://localhost:8080/"
        },
        "id": "HRMvIV97SoEL",
        "outputId": "32a73236-d237-48ad-ed91-35ff23a41a0e"
      },
      "execution_count": null,
      "outputs": [
        {
          "output_type": "stream",
          "name": "stdout",
          "text": [
            "[[1.         0.15259647 0.01486614]\n",
            " [0.15259647 1.         0.02763926]\n",
            " [0.01486614 0.02763926 1.        ]]\n"
          ]
        }
      ]
    },
    {
      "cell_type": "markdown",
      "source": [
        "시각화"
      ],
      "metadata": {
        "id": "sQctBGp-nyNb"
      }
    },
    {
      "cell_type": "code",
      "source": [
        "import seaborn as sns\n",
        "import matplotlib.pyplot as plt"
      ],
      "metadata": {
        "id": "0Ln2ZDVcLmqx"
      },
      "execution_count": null,
      "outputs": []
    },
    {
      "cell_type": "code",
      "source": [
        "sns.heatmap(cosine_similarity_matrix.toarray(), cmap = 'viridis')\n",
        "plt.show()"
      ],
      "metadata": {
        "colab": {
          "base_uri": "https://localhost:8080/",
          "height": 269
        },
        "id": "fZOa75Vyn4Ir",
        "outputId": "f2b0e9df-5a21-4180-88b8-943632105d59"
      },
      "execution_count": null,
      "outputs": [
        {
          "output_type": "display_data",
          "data": {
            "text/plain": [
              "<Figure size 432x288 with 2 Axes>"
            ],
            "image/png": "[encoded data removed]"
          },
          "metadata": {
            "needs_background": "light"
          }
        }
      ]
    },
    {
      "cell_type": "code",
      "source": [
        "import numpy as np\n",
        "from numpy import dot\n",
        "from numpy.linalg import norm"
      ],
      "metadata": {
        "id": "7CLqQkBjn4BI"
      },
      "execution_count": null,
      "outputs": []
    },
    {
      "cell_type": "code",
      "source": [
        "def cos_sim(A, B):\n",
        "  return dot(A, B) / norm(A) * norm(B)"
      ],
      "metadata": {
        "id": "nni1bnIan3-a"
      },
      "execution_count": null,
      "outputs": []
    },
    {
      "cell_type": "code",
      "source": [
        "cosine_similarity_matrix.toarray()"
      ],
      "metadata": {
        "colab": {
          "base_uri": "https://localhost:8080/"
        },
        "id": "M4EUKFu4u-PJ",
        "outputId": "ef99b111-0211-4a7b-b3f5-33e978ad90f0"
      },
      "execution_count": null,
      "outputs": [
        {
          "output_type": "execute_result",
          "data": {
            "text/plain": [
              "array([[1.        , 0.15259647, 0.01486614],\n",
              "       [0.15259647, 1.        , 0.02763926],\n",
              "       [0.01486614, 0.02763926, 1.        ]])"
            ]
          },
          "metadata": {},
          "execution_count": 94
        }
      ]
    },
    {
      "cell_type": "code",
      "source": [
        "cosine_similarity_matrix.toarray()[0], cosine_similarity_matrix.toarray()[1], cosine_similarity_matrix.toarray()[2]"
      ],
      "metadata": {
        "colab": {
          "base_uri": "https://localhost:8080/"
        },
        "id": "qkejmlyYn33i",
        "outputId": "66e429f4-46a2-46e2-e735-06fa0ed528ca"
      },
      "execution_count": null,
      "outputs": [
        {
          "output_type": "execute_result",
          "data": {
            "text/plain": [
              "(array([1.        , 0.15259647, 0.01486614]),\n",
              " array([0.15259647, 1.        , 0.02763926]),\n",
              " array([0.01486614, 0.02763926, 1.        ]))"
            ]
          },
          "metadata": {},
          "execution_count": 95
        }
      ]
    },
    {
      "cell_type": "code",
      "source": [
        "print(cos_sim(cosine_similarity_matrix.toarray()[0], cosine_similarity_matrix.toarray()[1]))"
      ],
      "metadata": {
        "colab": {
          "base_uri": "https://localhost:8080/"
        },
        "id": "uMzzQmPpvKyS",
        "outputId": "46f0e410-bcaf-4444-9cc0-5d32eb4bf608"
      },
      "execution_count": null,
      "outputs": [
        {
          "output_type": "stream",
          "name": "stdout",
          "text": [
            "0.3056848724839579\n"
          ]
        }
      ]
    },
    {
      "cell_type": "code",
      "source": [
        "print(cos_sim(cosine_similarity_matrix.toarray()[1], cosine_similarity_matrix.toarray()[2]))"
      ],
      "metadata": {
        "colab": {
          "base_uri": "https://localhost:8080/"
        },
        "id": "bkfIgh5qvSnm",
        "outputId": "7fb38357-5049-4e8c-aec3-395f68784f7a"
      },
      "execution_count": null,
      "outputs": [
        {
          "output_type": "stream",
          "name": "stdout",
          "text": [
            "0.056895282593517685\n"
          ]
        }
      ]
    },
    {
      "cell_type": "code",
      "source": [
        "print(cos_sim(cosine_similarity_matrix.toarray()[0], cosine_similarity_matrix.toarray()[2]))"
      ],
      "metadata": {
        "colab": {
          "base_uri": "https://localhost:8080/"
        },
        "id": "sD4uV0XQvVIB",
        "outputId": "8eea553b-35dc-4604-9ed6-4e6233cadc33"
      },
      "execution_count": null,
      "outputs": [
        {
          "output_type": "stream",
          "name": "stdout",
          "text": [
            "0.033574321047904816\n"
          ]
        }
      ]
    }
  ]
}