{
  "cells": [
    {
      "cell_type": "markdown",
      "metadata": {
        "id": "view-in-github",
        "colab_type": "text"
      },
      "source": [
        "<a href=\"https://colab.research.google.com/github/yk-Jeong/nextlab_collabo/blob/main/CP2_%EA%B8%B0%EC%97%85%ED%98%91%EC%97%85_%EB%84%A5%EC%8A%A4%ED%8A%B8%EB%9E%A9(1)_%EB%89%B4%EC%8A%A4%EC%B9%B4%ED%85%8C%EA%B3%A0%EB%A6%AC%EB%B6%84%EB%A5%98.ipynb\" target=\"_parent\"><img src=\"https://colab.research.google.com/assets/colab-badge.svg\" alt=\"Open In Colab\"/></a>"
      ]
    },
    {
      "cell_type": "markdown",
      "metadata": {
        "id": "CDGTQ2unkX1o"
      },
      "source": [
        "**1. 뉴스 카테고리 분류**\n",
        "2. 한글 띄어쓰기 검사\n",
        "3. 단락 연결 여부 판별"
      ]
    },
    {
      "cell_type": "markdown",
      "metadata": {
        "id": "CpyO8t7Lo3gk"
      },
      "source": [
        "#뉴스 카테고리 분류\n",
        "\n",
        "9가지 카테고리(culture, economy, entertainment, health, ITscience, life, politic, social, sport)의 다중분류문제 "
      ]
    },
    {
      "cell_type": "markdown",
      "metadata": {
        "id": "N9TGu-fBqDV6"
      },
      "source": [
        "###라이브러리 설치 및 로드"
      ]
    },
    {
      "cell_type": "code",
      "source": [
        "!pip install mxnet\n",
        "!pip install gluonnlp tqdm\n",
        "!pip install sentencepiece\n",
        "!pip install transformers"
      ],
      "metadata": {
        "id": "3RFu-9OboBVH"
      },
      "execution_count": null,
      "outputs": []
    },
    {
      "cell_type": "code",
      "execution_count": null,
      "metadata": {
        "id": "ZG4aCMDgxUP-"
      },
      "outputs": [],
      "source": [
        "!pip install git+https://git@github.com/SKTBrain/KoBERT.git@master"
      ]
    },
    {
      "cell_type": "code",
      "execution_count": 6,
      "metadata": {
        "id": "0ilMxgBdhItp"
      },
      "outputs": [],
      "source": [
        "import torch \n",
        "from torch import nn\n",
        "\n",
        "import torch.nn.functional as F\n",
        "import torch.optim as optim\n",
        "\n",
        "from torch.utils.data import Dataset, DataLoader\n",
        "\n",
        "import gluonnlp as nlp\n",
        "import numpy as np\n",
        "import pandas as pd\n",
        "import os\n",
        "\n",
        "from tqdm import tqdm, tqdm_notebook"
      ]
    },
    {
      "cell_type": "code",
      "execution_count": 16,
      "metadata": {
        "id": "6Q0sydCjvUW9"
      },
      "outputs": [],
      "source": [
        "from kobert.utils import get_tokenizer\n",
        "from kobert.pytorch_kobert import get_pytorch_kobert_model\n",
        "\n",
        "from transformers import AdamW\n",
        "from transformers.optimization import get_cosine_schedule_with_warmup"
      ]
    },
    {
      "cell_type": "markdown",
      "metadata": {
        "id": "jfDV8Xaard4H"
      },
      "source": [
        "###데이터 로드 "
      ]
    },
    {
      "cell_type": "code",
      "source": [
        "from google.colab import drive \n",
        "drive.mount('/content/drive')"
      ],
      "metadata": {
        "colab": {
          "base_uri": "https://localhost:8080/"
        },
        "id": "mMpXqpjpbg2t",
        "outputId": "8ce3664b-b373-4ae5-deef-59afdb7fbe17"
      },
      "execution_count": 7,
      "outputs": [
        {
          "output_type": "stream",
          "name": "stdout",
          "text": [
            "Mounted at /content/drive\n"
          ]
        }
      ]
    },
    {
      "cell_type": "code",
      "execution_count": 8,
      "metadata": {
        "colab": {
          "base_uri": "https://localhost:8080/"
        },
        "id": "u9XBRrv6xSNm",
        "outputId": "57b615eb-fdce-4e8e-9e91-b6f8bcacfa1f"
      },
      "outputs": [
        {
          "output_type": "stream",
          "name": "stdout",
          "text": [
            "dataset  drive\tsample_data\n"
          ]
        }
      ],
      "source": [
        "!unzip -uq \"/content/drive/My Drive/news_class9x13000.zip\" -d \"/content/dataset\"\n",
        "!ls "
      ]
    },
    {
      "cell_type": "code",
      "execution_count": 9,
      "metadata": {
        "id": "plq5nJi7qbNi",
        "colab": {
          "base_uri": "https://localhost:8080/"
        },
        "outputId": "8d393e3d-05b7-4531-f3b7-227cfecd3b71"
      },
      "outputs": [
        {
          "output_type": "stream",
          "name": "stdout",
          "text": [
            "rmdir: failed to remove '/content/dataset/2/.ipynb_checkpoints': No such file or directory\n"
          ]
        }
      ],
      "source": [
        "#아래 라인이 실행되지 않을 경우 숨겨진 파일인 .ipynb_checkpoints를 삭제\n",
        "\n",
        "!rmdir /content/dataset/2/.ipynb_checkpoints\n",
        "#참고 https://wooono.tistory.com/252"
      ]
    },
    {
      "cell_type": "markdown",
      "metadata": {
        "id": "39q3sJ4UhPGR"
      },
      "source": [
        "데이터 확인 및 분리 "
      ]
    },
    {
      "cell_type": "code",
      "source": [
        "#폴더명 변경: dataset 폴더에 있는 하위 카테고리명을 0에서 8까지의 숫자로 변경\n",
        "#d이미 변경하였다면 미실행\n",
        "\n",
        "os.listdir('/content/dataset')\n",
        "os.rename('/content/dataset/culture', '/content/dataset/0')\n",
        "os.rename('/content/dataset/economy', '/content/dataset/1')\n",
        "os.rename('/content/dataset/entertainment', '/content/dataset/2')\n",
        "os.rename('/content/dataset/health', '/content/dataset/3')\n",
        "os.rename('/content/dataset/ITscience', '/content/dataset/4')\n",
        "os.rename('/content/dataset/life', '/content/dataset/5')\n",
        "os.rename('/content/dataset/politic', '/content/dataset/6')\n",
        "os.rename('/content/dataset/social', '/content/dataset/7')\n",
        "os.rename('/content/dataset/sport', '/content/dataset/8')"
      ],
      "metadata": {
        "colab": {
          "base_uri": "https://localhost:8080/"
        },
        "id": "jeyfJPPsi1do",
        "outputId": "f4010bec-3771-4830-a9ca-d8702f5b7e1d"
      },
      "execution_count": 10,
      "outputs": [
        {
          "output_type": "execute_result",
          "data": {
            "text/plain": [
              "['entertainment',\n",
              " 'culture',\n",
              " 'economy',\n",
              " 'social',\n",
              " 'sport',\n",
              " 'ITscience',\n",
              " 'health',\n",
              " 'politic',\n",
              " 'life']"
            ]
          },
          "metadata": {},
          "execution_count": 10
        }
      ]
    },
    {
      "cell_type": "code",
      "execution_count": 36,
      "metadata": {
        "colab": {
          "base_uri": "https://localhost:8080/"
        },
        "id": "fiV4GQHLra6_",
        "outputId": "387694df-45bf-45bd-ca27-b55b58f5bd89"
      },
      "outputs": [
        {
          "output_type": "stream",
          "name": "stdout",
          "text": [
            "93600 23400\n"
          ]
        }
      ],
      "source": [
        "#기사 내용과 카테고리를 하나의 데이터로 이루어진 리스트로 만듦\n",
        "\n",
        "dataset_train = []\n",
        "dataset_test = []\n",
        "\n",
        "root = \"/content/dataset/\"\n",
        "list = os.listdir(root)\n",
        "for cat in list:\n",
        "    files = os.listdir(root + cat)\n",
        "    for i,f in enumerate(files):\n",
        "        fname = root + cat + \"/\" + f\n",
        "        file = open(fname, \"r\", encoding=\"utf-8\")\n",
        "        strings = file.read()\n",
        "        if i>=2600: #카테고리당 13,000개의 데이터가 있으며 훈련 세트의 비중을 20%로 설정하였음\n",
        "            dataset_train.append([strings, cat])\n",
        "        else:\n",
        "            dataset_test.append([strings, cat])\n",
        "        file.close()\n",
        "\n",
        "print(len(dataset_train), len(dataset_test))"
      ]
    },
    {
      "cell_type": "code",
      "source": [
        "dataset_train[0], dataset_test[0]"
      ],
      "metadata": {
        "colab": {
          "base_uri": "https://localhost:8080/"
        },
        "id": "SUa3q-Q2vQiI",
        "outputId": "5aed5c5d-bab0-4c1f-cb73-074f14f6e494"
      },
      "execution_count": 37,
      "outputs": [
        {
          "output_type": "execute_result",
          "data": {
            "text/plain": [
              "(['앙 선생님, 이렇게 사셨는줄 몰랐습니다\\n부고기사를 쓰는 일이란 꽤나 묘한 감정을 불러일으킵니다.\\n생의 유한함을 일깨우기도 하고, 유명인일 경우 망자에 대한 개인적 추억을 곱씹게도 만들지요.\\n오죽했으면 <클로저>의 주인공이자 부고기사 전문 기자 댄은 어떻게 하면 생전 고인의 명예를 훼손시키지 않을까가 최대 고민이었을까요.\\n그가 떠난 첫 번째 새벽, 무섭게도 비가 내렸습니다.\\n혹자는 하늘도 울었다\\n라는 문학적 표현을 쓸지도 모를 일이지요.\\n흰색으로 각인된 그가 떠난 첫날밤이 그렇게 가고 있었습니다.\\n그의 이름, 앙드레 김.\\n유명인들이 떠난 자리에는 대중들의 무수한 평이 남습니다.\\n심지어 자살한 유명 여배우에게 악플을 다는 이들도 있었으니 더 말하면 무엇 할까요.\\n그러나 의아할 만큼, 패션 디자이너 앙드레 김 선생 부고 소식에는 애도와 상찬, 안타까움의 수사들로 넘쳐나고 있습니다.\\n그가 그만큼 사회적인 존경과 유명세, 그리고 호감을 동시에 받았다는 방증이겠지요.\\n그런데 문득 인간 앙드레 김에 대해 우리가 무엇을 알고 있나 하는 점에 생각이 미쳤습니다.\\n연예인들의 단골 성대모사와 독특한 헤어스타일과 의상, 말투, 그러니까 일종의 캐리커처로만 남은 것은 아닌가 합니다.\\n앙드레김 당신은 누구셨습니까?\\n하늘에서도 옷을 만들 그의 안타까운 죽음\\n한국을 대표하는 패션 디자이너, 민간 문화외교 사절…. 유달리 최초란 수식어가 많이 따라 붙는 패션 디자이너 앙드레 김. 2005년부터 대장암과 싸워오다 최근 폐렴에 의한 합병증으로 유명을 달리한 그의 나이는 향년 75세였습니다.\\n따뜻하게 함께 녹화해 주셨던 기억이 있습니다.\\n하늘나라 선녀님들의 의상이 더 예뻐지겠네요.\\n환한 그 미소로 내내 평안하시길 빕니다.\\n삼가 고인의 명복을 빕니다.\\n방송인 김제동씨가 트위터에 올린 추모 글입니다.\\n이렇게 우리가 기억하는 앙드레 김은 항상 인자한 미소를 지으며 어눌한 듯 화려한 수사로 스포트라이트를 받았던 유명인이었습니다.\\n그 중심에 패션이 있었고 또 예술과 인간, 한국에 대한 무한한 애정이 있었지요.\\n참 제가 존경스럽다고까지 느꼈습니다.\\n그런 분이 기부라는 것을 이렇게 지속적으로 할 수는 없는 거예요.\\n그 분 덕으로 유니세프에서 아주 유명한 연예인들도 저 또한 많이 구경하고,(웃음) 우리 유니세프가 도움도 많이 받았고요.\\n우리 시대 또 다른 어른인 소설가 박완서 선생의 기억입니다.\\n기부에 관심이 많았던 앙드레 김 선생은 원빈과 같은 스타들을 유니세프에 연결시켜주는 가교 역할을 하기도 했습니다.\\n그러니까 그의 관심은 단지 패션에 머무르지 않고 인간과 한국이라는 이 땅에 맞닿아 있었던 거지요.\\n문득 소년, 청년 앙드레 김이 궁금해졌습니다.\\n기차와 영화를 사랑했던 청년 앙드레 김\\n지난해 9월 방영된 <SBS 스페셜> 앙드레 김 - 일곱겹 인터뷰로 그리다에는 그런 앙드레 김의 젊은 시절이 잘 담겨져 있습니다.\\n재미있는 것은 그를 패션으로 이끈 것이 영화였다는 점이었습니다.\\n1935년생이니 그는 분단세대이기도 한데요.\\n서울에 살던 그는 피난지였던 부산에 정착했고, 그의 꿈과 열정을 북돋운 것이 바로 영화였다고 합니다.\\n그때는 패션이라는 단어하고 디자이너라는 단어가 전혀 상식화 안 되어 있을 시대거든요.\\n그 많은 영화들을 보면서 아! 나는 의상을 하는 사람이 되어야지 이렇게 생각을 하게 됐죠.\\n전쟁의 피로감과 혼란이 지속됐던 그 시절, 앙드레 김을 매혹시킨 것은 오드리 햅번의 영화들과 또 영화 속 의상이었지요. <사브리나> <티파니에서 아침을> <로마의 휴일> 등을 보며 청년 앙드레 김은 우아하고 판타스틱한 의상들에 매료되었을 겁니다. <시네마 천국>의 한 장면이 연상된다\\n고요?\\n그리고는 국제복장학원을 1962년에 졸업하고 소동공에 의상실을 설립하게 됩니다.\\n국내 첫 남성 패션디자이너의 탄생이었지요.\\n시계를 더 돌려보면, 좀 더 아련한 그의 꿈을 알 수 있습니다.\\n1947년, 구파발에서 뛰놀던 중학생 앙드레 김을 사로잡은 것은 바로 기차였다고 합니다.\\n미지의 세계에 대한 동경, 그 꿈을 싣고 달리는 기차. 드넓은 세계에 대한 동경이 그를 영어공부로 이끌었다는 점에서 역시나 그는 선구자적인 기질을 타고 난 것으로도 보입니다.\\n영화와 기차, 앙드레 김의 꿈은 꽤나 드라마틱했습니다.\\n세계 속 한국을 알린 앙드레 김 여사\\n소공동에 그가 의상실을 열었던 때가 그의 나이 27살. 그는 어떻게 그렇게 빨리 패션디자이너로 성공할 수 있었을까요.\\n우리나라 최초 여성복 디자이너였던 그는 혁신적인, 새로움, 특별함의 대명사가 될 수 있었지만, 또 1963년 1월 대한뉴스에 앙드레 김 여사로 소개되는 해프닝도 겪어야 했답니다.\\n패션이란 단어가 생소했던 그 시절, 최초로 남성이면서 여성복을 디자인했던 그는 언론과 대중들의 관심을 집중시킬 수밖에 없었을 겁니다.\\n특히나 서구적이면서도 그 안에 한국적인 인장을 찍은 의상들은 오리엔탈리즘을 넘어 세계에서도 주목을 받게 할 만한 것이었죠.\\n결국 1964년부터 미국과 이탈리아, 프랑스 등을 돌며 패션쇼를 열게 됩니다.\\n동양에서 온 혜성 패션쇼를 열다(1966년 <르몽드>), 그의 패션쇼는 선경의 마술이다(1966년 <르피가로>)라는 찬사까지 얻었으니 국내에서 그는 진정 입지전적일 수밖에 없었겠지요.\\n그렇게 자신감을 얻은 그는 그 이후 전세계를 돌며 활동할 수 있는 힘을 얻었고, 1968년에는 뉴욕에서 패션쇼를 개최하게 되지요.\\n현재 돈으로 16억 원에 달하는 주문을 받은 그는 그야말로 탄탄대로를 걷게 됩니다.\\n영원한 휴식에도 쓸쓸해하지 않기를\\n그러니까 샌프란시스코에 앙드레 김의 날이 있었다는 걸 우리가 알고 있었던가요?\\n그렇다면 마이클 잭슨이 수십 벌에 달하는 그의 옷을 구입했다는 사실은요? 1980년대에 이미 미스유니버스 대회 지명디자이너로 활동하고, 또 이탈리아 대통령 문화공로 훈장을 수상했으며, 2000년엔 프랑스 예술문학훈장을 탔다고 하니, 이쯤되면 걸어 다니는 한국 홍보대사라고해도 과언이 아니겠지요.\\n어쩌면 그는 한국의 근현대사를 고스란히 통과해 온 상징적인 인물이라고 봐도 무방할 것 같습니다.\\n한국전쟁과 분단을 통과하면서도 꿈을 잃지 않고 자신만의 독창성을 무기로 세계인과 상대해 빛나는 성취를 이뤄낸 인물로 말이지요.\\n더불어 그가 압축성장을 이뤄낸 한국의 1970~80년대 문화와 예술을 풍성하게 만든 큰 축이었다는 점은 부인할 수 없을 것 같습니다.\\n무엇보다 세계평화아동축제 아동평화대사나 유니세프 한국위원회 친선대사 등 자선활동에도 깊숙이 관여하며 인간에 대한 보편적 사랑을 몸소 실천했다는 면에서 존경을 보내지 않을 수 없습니다.\\n영화를 사랑한 만큼, 패션을 더 넓게 예술로 이해하는 동시에 또 인간을 위한 예술을 하려고 노력한 앙드레 김.\\n저는 사실 새 달력이 나오면 연휴가 주말하고 겹쳐지길 바라요.\\n왜 그러느냐 하면 연휴가 주말에 있고 또 연휴가 계속되면 너무 지루해요.\\n쉬는 자체도 소중하고 많은 분들이 모든 분야에서 열심히 일해서 쉬고 싶어 하는 것은 당연히 이해가 되지만, 저는 계속 일하고 싶어요.\\n일요일에도 나와서 반나절은 일을 해요.\\n그래서 일요일이 되면 쓸쓸해요.\\n연휴 되면 더욱 더 쓸쓸하고요.\\n이제 앙드레 김 선생은 영원한 휴식을 취하게 됐습니다.\\n그래서 더욱 쓸쓸하실지도 모르겠습니다. 하지만 김제동씨의 예상대로 선생은 하늘에서도 천사들의 옷을 한국적으로 만들어 줄 것이라 믿습니다.\\n그러니 쓸쓸하지 않으실 것만 같습니다.\\n삼가 고인의 명복을 빕니다.',\n",
              "  '7'],\n",
              " ['스폰서 검사’, 〈조선〉 감싸고 〈중앙〉 물타고\\n<한겨레><경향> 스폰서 검사 특검제 도입해야\\n<조선> 검찰다운 검찰이 될 수 있는 여건이 되나 검찰 두둔\\n<중앙> 토착비리 탓하며 검찰 비리 물타기\\n검찰은 22일 건설업체 전 대표 정씨가 제기한 검사 향응 및 성접대 의혹의 진상을 규명키 위한 진상조사단을 발족, 이날부터 조사에 들어갔다.\\n검찰 진상조사단과 함께 구성키로 한 진상규명위원회는 성낙인 서울대 법학전문대학원 교수를 위원장으로 위촉하는 한편 6~7명의 민간 위원을 23일 결정키로 했다.\\n그러나 민간인 중심의 진상규명위는 검찰의 진상조사 결과를 보고 받은 뒤 사후에 조치를 취하게 돼, 엄정한 조사가 이뤄질지 미지수라는 지적이 나온다.\\n또 시민단체와 야당에서는 이번 사건의 진상을 제대로 규명하기 위한 특별검사제 도입은 물론 공직자비리수사처 신설을 요구하고 있다.\\n23일 한겨레신문과 경향신문은 한 목소리로 특검제 도입 요구에 힘을 실었다.\\n조중동은 검찰의 진상조사 활동에 초점을 맞췄다.\\n특히 조선일보는 검찰다운 검찰이 될 수 있는 여건이 안 돼 있다며 검찰을 두둔했고, 중앙일보는 스폰서 검찰 문제를 토착비리 탓으로 돌리며 본질을 흐렸다.\\n<야당 스폰서 검사 특검 요구>(한겨레, 1면)\\n<제보내용 깨알같이 조사 … 2~3개월안 결론>(한겨레, 3면)\\n<검찰, 먼저 회식시켜달라 전화… 사건청탁 보통 다 들어줬다>(한겨레, 3면)\\n<삼성 떡검때도 흐지부지…검찰 내부 벌써 규명 회의론>(한겨레, 3면)\\n<자정능력 잃은 검찰에 미래는 없다>(한겨레, 사설)\\n한겨레신문은 1면에서 수사권과 기소권을 독점해온 검찰 자신이 범죄자가 된 상황에서 필요한 것이 특검뿐이라는 민주노동당의 논평 등을 인용, 야당들의 스폰서 검사 특검 요구를 전했다.\\n또 검찰이 주가 되는 진상조사단에서 제대로 된 조사를 할 수 있을지 우려되지만, 자료 협조나 대질신문 등에 적극 협조할 것이라는 정씨의 발언을 실었다.\\n3면 <삼성 떡검때도 흐지부지…검찰 내부 벌써 규명 회의론>에서는 사건의 파장 때문에 검찰의 감찰 역사상 처음으로 민간인이 참여한 진상규명위원회가 만들어졌지만, 검찰 일부에선 역할에 의문을 품는 목소리가 나온다며 민간위원 참여가 구색 맞추기라고 말하는 검사도 있다고 보도했다.\\n이어 그러나 검찰은 수뇌부를 중심으로 배수진을 치는 분위기라며 진상규명위가 제구실을 못하면 야당 주장대로 특검이나 공직비리수사처 같은 조직이 만들어져 검찰이 더욱 곤혹스런 처지에 놓일 것이라고 보는 것이라고 전했다.\\n사설에서는 진상 규명과 엄중 조처를 다짐하는 검찰 말을 그대로 믿는 이는 찾기 힘들다며 시간이 지나면 결국 흐지부지되지 않겠느냐는 전망이 더 많다고 말했다.\\n이는 역대 법조비리사건에 대한 감찰도 납득할 만한 결과를 내놓지 못했으며, 검찰이 조직보호에만 급급한 탓이라고 지적했다.\\n이어 이번 향응파문까지 과거처럼 대충 덮으려 든다면 검찰에 대한 국민 불신은 걷잡을 수 없게 된다며 자체정화에 실패한다면 검찰의 미래는 없다고 경고했다.\\n<스폰서 검사 못믿을 진상조사>(경향, 1면)\\n<한명숙 수사 땐 준 사람 믿어야… 이번엔 신빙성 의심>(경향, 3면)\\n<야당 특검법 입법 추진 여당 검찰 개혁엔 동의>(경향, 3면)\\n<진상조사위 산 넘어 산>(경향, 3면)\\n<스폰서 검사 조사 검찰에 맡길 수 없다>(경향, 사설)\\n경향신문은 3면 <한명숙 수사 땐 준 사람 믿어야… 이번엔 신빙성 의심>에서 스폰서 검사 파문과 관련해 검찰이 자가당착적인 논리와 권위주의적인 태도를 보이면서 비난을 키우고 있다고 보도했다.\\n기사는 한명숙 전 국무총리 뇌물수수 의혹사건에서는 준 사람 말을 못 믿으면 앞으로 뇌물 수사는 못한다고 했던 검찰이 이번 사건을 폭로한 건설업자 정모씨에 대해서는 진술의 신빙성이 의심된다고 모순되는 주장을 하고 있다며 사안에 따라 말이 다른 검찰의 이중잣대를 지적했다.\\n사설에서는 검찰의 진상조사가 외형상으로는 민간인을 내세워 객관성과 공정성을 갖추는 듯 포장했지만, 내용상으로는 결국 제 식구끼리 알아서 하겠다는 것이라고 비판했다.\\n사설은 진상조사단장인 채동욱 대전고검장이 접대 리스트에 거명된 박기준 부산지검장과 사법고시(24회), 연수원(14기) 동기라며 20년 넘게 검찰에서 한솥밥 먹은 동기에게 조사를 맡겨놓은 검찰 수뇌부의 의도는 아무리 생각해도 이해하기 어렵다고 말했다.\\n그러면서 검찰은 더 시간 낭비할 것 없이 처음부터 외부 기관에 진실 규명을 맡겨야 한다며 의지만 있다면 야당에서 주장하는 특검제를 받아들여 명명백백하게 털고 가는 것도 속 시원한 해법이라고 특검제 도입을 요구했다.\\n<검사 스폰서 의혹 진상규명위원장 성낙인 서울대교수>(조선, 1면)\\n<정씨가 언급한 술집 종업원까지 두루 조사키로>(조선, 8면)\\n<국민적 의혹 해소 위해 철저히 진상 밝혀낼 것>(조선, 8면)\\n<부산지검 정씨 봐주지 않고 원칙대로 했다가 역풍>(조선, 8면)\\n<검찰다운 검찰이 될 수 있는 여건도 만들어줘야 한다>(조선, 사설)\\n기사 제목에서 드러나듯 조선일보는 검찰의 진상조사 의지를 강조하는 한편 검찰의 억울함을 부각했다.\\n8면 <부산지검 정씨 봐주지 않고 원칙대로 했다가 역풍>에서는 <PD수첩> PD에게 협박조의 막말을 한 한기준 부산지검장에게 비난이 쏠리는 것과 관련, 이번 사건도 정씨를 봐주지 않다가 역풍을 맞은 것 아니냐.\\n원칙대로 한 사람에게 비난의 화살이 몰리면 안 된다, 너무 잔인한 것 아니냐.\\n만신창이가 되고 사망 직전인 그 간부에게서 무슨 말을 들을 수 있겠느냐며 불편한 심기를 드러낸 부산지검 검사들의 반응을 전했다.\\n사설에서는 검찰다운 검찰이 될 수 있는 여건도 만들어줘야 한다며 검찰을 두둔했다.\\n사설은 검사들이 객지 생활에 시달리며 상대적으로 수입에 여유가 있는 것도 아니어서 아이들 과외 비용 대기도 힘들다고 말했다.\\n이어 검사들이 스폰서 유혹을 이기려면 검사가 국민의 존경과 신뢰를 받고 무엇보다 공명정대(公明正大)한 인사가 이뤄져야 한다고 주장했다.\\n정권에 따라 검찰 요직이 바뀌는 풍토에서는 검사들이 누가, 어떤 세력이 정권을 잡을지에 온통 신경을 곤두세우고 정권 실력자에게 줄을 대려 하는 걸 정의라는 형식 논리를 앞세워 나무랄 수만도 없다는 것이다.\\n그러면서 이래 가지고는 백년이 가도 검사와 검찰이 정권 눈치를 보지 않고 소신껏 권력층 비리를 도려내는 수사를 하는 것은 불가능하다고 덧붙였다.\\n앞서 22일 사설에서는 검사 경력이 10~15년씩 돼 기존의 관행에 물이 들대로 든 중간 간부들의 체질을 이제 와서 바로잡기는 거의 불가능하다며 검찰이 스폰서 문화 벗어나려면 10년도 모자란다더니, 23일에는 정치권의 풍토 때문에 검찰이 소신 수사하기까진 백년도 모자라다는 주장을 편 것이다.\\n<촌지·향응 잘못된 관행 뜯어고쳐야>(중앙, 8면)\\n<진통 있어도 공직비리 처리해야>(중앙, 8면)\\n<검찰 스폰서 문화도 토착비리의 한 축이다>(중앙, 사설)\\n중앙일보는 8면 <촌지·향응 잘못된 관행 뜯어고쳐야>를 통해 22일 검사장 화상회의에서 이번 사건의 중심에 있는 박기준 부산지검장과 한승철 대검 감찰부장은 신상 발언 기회를 요청했다고 한다며 방송된 내용은 상당 부분 왜곡됐다는 박 지검장과 한 감찰부장의 주장을 보도했다.\\n사설에서는 토착(土着) 비리는 지연․학연․혈연이란 강한 연대감에다 권력과 돈이 얽히고설켜 뿌리 뽑기가 쉽지 않다며 감사원이 어제 발표한 토착비리 감찰 활동 결과를 열거했다.\\n그러면서 최근 말썽이 된 검찰의 스폰서 문제도 지방 토호 건설업자와 유착관계를 맺으면서 빚어진 사건으로 규정한 뒤 토착비리가 사정의 칼날까지 녹슬게 할 정도로 뿌리가 깊고 전방위적이란 사실이 드러난 것이라며 사안의 본질을 흐렸다.\\n<리스트 등장 전현직 검사 모두 조사>(동아, 12면)\\n동아일보는 스폰서 검사 진상규명위원장에 서울대 성낙인 교수가 위촉됐다며 성 교수는 당초 다음 달 5일 치러지는 서울대 총장 선거에 출마한 상태라는 점을 들어 위원장직을 고사했지만 김준규 검찰총장이 직접 나서자 마음을 바꾸었다고 보도했다.\\n이어 진상조사위가 사실관계를 확인하는 데에는 몇 가지 어려움도 예상된다며 정씨가 진상조사단이든 검찰이든 검사와는 마주치고 싶지 않다며 조사에 응하지 않겠다는 뜻을 밝혔다고 말해, 정씨가 대질신문 등에 적극 협조할 것이라던 한겨레신문 보도와 차이를 보였다.',\n",
              "  '7'])"
            ]
          },
          "metadata": {},
          "execution_count": 37
        }
      ]
    },
    {
      "cell_type": "markdown",
      "metadata": {
        "id": "GrixzP1b1iRp"
      },
      "source": [
        "######tokenizer 선언"
      ]
    },
    {
      "cell_type": "code",
      "execution_count": 85,
      "metadata": {
        "colab": {
          "base_uri": "https://localhost:8080/"
        },
        "id": "6wUTWjmM0YE1",
        "outputId": "e5146a4f-f46f-461f-deef-8290996bdc22"
      },
      "outputs": [
        {
          "output_type": "stream",
          "name": "stdout",
          "text": [
            "using cached model. /content/.cache/kobert_v1.zip\n",
            "using cached model. /content/.cache/kobert_news_wiki_ko_cased-1087f8699e.spiece\n"
          ]
        }
      ],
      "source": [
        "#device setting 및 사전학습된 bert model load\n",
        "device = torch.device(\"cuda:0\")\n",
        "bertmodel, vocab = get_pytorch_kobert_model()"
      ]
    },
    {
      "cell_type": "code",
      "execution_count": 86,
      "metadata": {
        "colab": {
          "base_uri": "https://localhost:8080/"
        },
        "id": "qPTAKwwzzLns",
        "outputId": "5ba37e27-11e0-4cad-84ba-5613ff0d5283"
      },
      "outputs": [
        {
          "output_type": "stream",
          "name": "stdout",
          "text": [
            "using cached model. /content/.cache/kobert_news_wiki_ko_cased-1087f8699e.spiece\n"
          ]
        }
      ],
      "source": [
        "tokenizer = get_tokenizer()\n",
        "tok = nlp.data.BERTSPTokenizer(tokenizer, vocab, lower = False)"
      ]
    },
    {
      "cell_type": "markdown",
      "metadata": {
        "id": "neXw256S8rSi"
      },
      "source": [
        "######데이터셋 클래스 선언"
      ]
    },
    {
      "cell_type": "code",
      "execution_count": 99,
      "metadata": {
        "id": "N3WkxRaK8qEU"
      },
      "outputs": [],
      "source": [
        "class BERTDataset(Dataset):\n",
        "    def __init__(self, dataset, sent_idx, label_idx, bert_tokenizer, max_len, pad, pair):\n",
        "        transform = nlp.data.BERTSentenceTransform(\n",
        "            bert_tokenizer, max_seq_length=max_len, pad=pad, pair=pair)\n",
        "\n",
        "        self.sentences = [transform([i[sent_idx]]) for i in dataset]\n",
        "        self.labels = [np.int32(i[label_idx]) for i in dataset]\n",
        "\n",
        "    def __getitem__(self, i):\n",
        "        return (self.sentences[i] + (self.labels[i], ))\n",
        "\n",
        "    def __len__(self):\n",
        "        return (len(self.labels))"
      ]
    },
    {
      "cell_type": "markdown",
      "metadata": {
        "id": "YjWptzw0TtBF"
      },
      "source": [
        "######모델 생성"
      ]
    },
    {
      "cell_type": "code",
      "execution_count": 40,
      "metadata": {
        "id": "Uibop1-Dgw3-"
      },
      "outputs": [],
      "source": [
        "#params\n",
        "\n",
        "max_len = 64\n",
        "batch_size = 64\n",
        "warmup_ratio = 0.1\n",
        "num_epochs = 10\n",
        "max_grad_norm = 1\n",
        "log_interval = 200\n",
        "learning_rate =  5e-5"
      ]
    },
    {
      "cell_type": "code",
      "execution_count": 88,
      "metadata": {
        "id": "FNdixtc88ycp",
        "colab": {
          "base_uri": "https://localhost:8080/"
        },
        "outputId": "693dbe51-1527-4697-c27b-e5fab2edc17b"
      },
      "outputs": [
        {
          "output_type": "stream",
          "name": "stderr",
          "text": [
            "/usr/local/lib/python3.7/dist-packages/torch/utils/data/dataloader.py:481: UserWarning: This DataLoader will create 5 worker processes in total. Our suggested max number of worker in current system is 2, which is smaller than what this DataLoader is going to create. Please be aware that excessive worker creation might get DataLoader running slow or even freeze, lower the worker number to avoid potential slowness/freeze if necessary.\n",
            "  cpuset_checked))\n"
          ]
        }
      ],
      "source": [
        "train_data = BERTDataset(dataset_train, 0, 1, tok, max_len, True, False)\n",
        "test_data = BERTDataset(dataset_test, 0, 1, tok, max_len, True, False)\n",
        "\n",
        "train_dataloader = torch.utils.data.DataLoader(dataset_train, batch_size=batch_size, num_workers=5, shuffle=True)\n",
        "test_dataloader = torch.utils.data.DataLoader(dataset_test, batch_size=batch_size, num_workers=5, shuffle=True)"
      ]
    },
    {
      "cell_type": "code",
      "execution_count": 94,
      "metadata": {
        "id": "8V7MpV5-qQHl"
      },
      "outputs": [],
      "source": [
        "#레이블 설정 \n",
        "\n",
        "labels = ['culture', 'economy', 'entertainment', 'health', 'ITscience', 'life', 'politic', 'social', 'sport']"
      ]
    },
    {
      "cell_type": "code",
      "execution_count": 100,
      "metadata": {
        "id": "oxyWLsi586t7"
      },
      "outputs": [],
      "source": [
        "class BERTClassifier(nn.Module):\n",
        "    def __init__(self,\n",
        "                 bert,\n",
        "                 hidden_size = 768,\n",
        "                 num_classes=8,\n",
        "                 dr_rate=None,\n",
        "                 params=None):\n",
        "        super(BERTClassifier, self).__init__()\n",
        "\n",
        "        self.bert = bert\n",
        "        self.dr_rate = dr_rate                 \n",
        "        self.classifier = nn.Linear(hidden_size , num_classes)\n",
        "        \n",
        "        if dr_rate:\n",
        "            self.dropout = nn.Dropout(p=dr_rate)\n",
        "    \n",
        "    def gen_attention_mask(self, token_ids, valid_length):\n",
        "        attention_mask = torch.zeros_like(token_ids)\n",
        "        for i, v in enumerate(valid_length):\n",
        "            attention_mask[i][:v] = 1\n",
        "        return attention_mask.float()\n",
        "\n",
        "    def forward(self, token_ids, valid_length, segment_ids):\n",
        "        attention_mask = self.gen_attention_mask(token_ids, valid_length)\n",
        "        _, pooler = self.bert(input_ids = token_ids, token_type_ids = segment_ids.long(), attention_mask = attention_mask.float().to(token_ids.device), return_dict=False)\n",
        "        if self.dr_rate:\n",
        "            out = self.dropout(pooler)\n",
        "        return self.classifier(out)"
      ]
    },
    {
      "cell_type": "code",
      "execution_count": 101,
      "metadata": {
        "id": "QpA3XRFt9ALw",
        "colab": {
          "base_uri": "https://localhost:8080/"
        },
        "outputId": "a6399c7c-c6dc-46ba-e3af-beea87b95c10"
      },
      "outputs": [
        {
          "output_type": "stream",
          "name": "stderr",
          "text": [
            "/usr/local/lib/python3.7/dist-packages/transformers/optimization.py:309: FutureWarning: This implementation of AdamW is deprecated and will be removed in a future version. Use the PyTorch implementation torch.optim.AdamW instead, or set `no_deprecation_warning=True` to disable this warning\n",
            "  FutureWarning,\n"
          ]
        }
      ],
      "source": [
        "model = BERTClassifier(bertmodel, dr_rate=0.5).to(device)\n",
        "\n",
        "no_decay = ['bias', 'LayerNorm.weight']\n",
        "optimizer_grouped_parameters = [\n",
        "    {'params': [p for n, p in model.named_parameters() if not any(nd in n for nd in no_decay)], 'weight_decay': 0.01},\n",
        "    {'params': [p for n, p in model.named_parameters() if any(nd in n for nd in no_decay)], 'weight_decay': 0.0}\n",
        "]\n",
        "\n",
        "optimizer = AdamW(optimizer_grouped_parameters, lr=learning_rate)\n",
        "loss_fn = nn.CrossEntropyLoss()\n",
        "\n",
        "t_total = len(train_dataloader) * num_epochs\n",
        "warmup_step = int(t_total * warmup_ratio)\n",
        "\n",
        "scheduler = get_cosine_schedule_with_warmup(optimizer, num_warmup_steps=warmup_step, num_training_steps=t_total)"
      ]
    },
    {
      "cell_type": "code",
      "execution_count": 102,
      "metadata": {
        "id": "R5JcAAVlGt7G"
      },
      "outputs": [],
      "source": [
        "#accuracy 계산 \n",
        "def calc_accuracy(X,Y):\n",
        "    max_vals, max_indices = torch.max(X, 1)\n",
        "    train_acc = (max_indices == Y).sum().data.cpu().numpy()/max_indices.size()[0]\n",
        "    return train_acc"
      ]
    },
    {
      "cell_type": "code",
      "execution_count": 107,
      "metadata": {
        "id": "CNLx-FU4Gu5f",
        "colab": {
          "base_uri": "https://localhost:8080/",
          "height": 391,
          "referenced_widgets": [
            "4b8c2e03c28d4404a77fd81764b0df2b",
            "1f8e389977494c49822f796f42de9f1f",
            "a2ef9f7d0f6742e7a883bb0acb7a88da",
            "3c625a6ab3c143a9b416a79db966c636",
            "c9ee89deca764626be206153b375baaa",
            "d9f6fd1185f24f11a210796e484ea84d",
            "65c0ae4ec79641e8a9ef39f9ed4a193e",
            "b674d4f224b34fb3a6fcdd81116f55ff",
            "c504275daffe467db0059e602fd2280f",
            "df8d4160b22a4c20b73df64f2287a67e",
            "fb8ec2d07cdd4a9db3e267e1f3fe0d40"
          ]
        },
        "outputId": "e40cf06d-642d-4116-dd2d-45a945d3ed09"
      },
      "outputs": [
        {
          "output_type": "stream",
          "name": "stderr",
          "text": [
            "/usr/local/lib/python3.7/dist-packages/ipykernel_launcher.py:5: TqdmDeprecationWarning: This function will be removed in tqdm==5.0.0\n",
            "Please use `tqdm.notebook.tqdm` instead of `tqdm.tqdm_notebook`\n",
            "  \"\"\"\n"
          ]
        },
        {
          "output_type": "display_data",
          "data": {
            "text/plain": [
              "  0%|          | 0/1463 [00:00<?, ?it/s]"
            ],
            "application/vnd.jupyter.widget-view+json": {
              "version_major": 2,
              "version_minor": 0,
              "model_id": "4b8c2e03c28d4404a77fd81764b0df2b"
            }
          },
          "metadata": {}
        },
        {
          "output_type": "stream",
          "name": "stderr",
          "text": [
            "/usr/local/lib/python3.7/dist-packages/torch/utils/data/dataloader.py:481: UserWarning: This DataLoader will create 5 worker processes in total. Our suggested max number of worker in current system is 2, which is smaller than what this DataLoader is going to create. Please be aware that excessive worker creation might get DataLoader running slow or even freeze, lower the worker number to avoid potential slowness/freeze if necessary.\n",
            "  cpuset_checked))\n"
          ]
        },
        {
          "output_type": "error",
          "ename": "ValueError",
          "evalue": "ignored",
          "traceback": [
            "\u001b[0;31m---------------------------------------------------------------------------\u001b[0m",
            "\u001b[0;31mValueError\u001b[0m                                Traceback (most recent call last)",
            "\u001b[0;32m<ipython-input-107-ee26ec442099>\u001b[0m in \u001b[0;36m<module>\u001b[0;34m()\u001b[0m\n\u001b[1;32m      3\u001b[0m     \u001b[0mtest_acc\u001b[0m \u001b[0;34m=\u001b[0m \u001b[0;36m0.0\u001b[0m\u001b[0;34m\u001b[0m\u001b[0;34m\u001b[0m\u001b[0m\n\u001b[1;32m      4\u001b[0m     \u001b[0mmodel\u001b[0m\u001b[0;34m.\u001b[0m\u001b[0mtrain\u001b[0m\u001b[0;34m(\u001b[0m\u001b[0;34m)\u001b[0m\u001b[0;34m\u001b[0m\u001b[0;34m\u001b[0m\u001b[0m\n\u001b[0;32m----> 5\u001b[0;31m     \u001b[0;32mfor\u001b[0m \u001b[0mbatch_id\u001b[0m\u001b[0;34m,\u001b[0m \u001b[0;34m(\u001b[0m\u001b[0mtoken_ids\u001b[0m\u001b[0;34m,\u001b[0m \u001b[0mvalid_length\u001b[0m\u001b[0;34m,\u001b[0m \u001b[0msegment_ids\u001b[0m\u001b[0;34m,\u001b[0m \u001b[0mlabel\u001b[0m\u001b[0;34m)\u001b[0m \u001b[0;32min\u001b[0m \u001b[0menumerate\u001b[0m\u001b[0;34m(\u001b[0m\u001b[0mtqdm_notebook\u001b[0m\u001b[0;34m(\u001b[0m\u001b[0mtrain_dataloader\u001b[0m\u001b[0;34m)\u001b[0m\u001b[0;34m)\u001b[0m\u001b[0;34m:\u001b[0m\u001b[0;34m\u001b[0m\u001b[0;34m\u001b[0m\u001b[0m\n\u001b[0m\u001b[1;32m      6\u001b[0m         \u001b[0moptimizer\u001b[0m\u001b[0;34m.\u001b[0m\u001b[0mzero_grad\u001b[0m\u001b[0;34m(\u001b[0m\u001b[0;34m)\u001b[0m\u001b[0;34m\u001b[0m\u001b[0;34m\u001b[0m\u001b[0m\n\u001b[1;32m      7\u001b[0m         \u001b[0mtoken_ids\u001b[0m \u001b[0;34m=\u001b[0m \u001b[0mtoken_ids\u001b[0m\u001b[0;34m.\u001b[0m\u001b[0mlong\u001b[0m\u001b[0;34m(\u001b[0m\u001b[0;34m)\u001b[0m\u001b[0;34m.\u001b[0m\u001b[0mto\u001b[0m\u001b[0;34m(\u001b[0m\u001b[0mdevice\u001b[0m\u001b[0;34m)\u001b[0m\u001b[0;34m\u001b[0m\u001b[0;34m\u001b[0m\u001b[0m\n",
            "\u001b[0;31mValueError\u001b[0m: not enough values to unpack (expected 4, got 2)"
          ]
        }
      ],
      "source": [
        "for e in range(num_epochs):\n",
        "    train_acc = 0.0\n",
        "    test_acc = 0.0\n",
        "    model.train()\n",
        "    for batch_id, (token_ids, valid_length, segment_ids, label) in enumerate(tqdm_notebook(train_dataloader)):\n",
        "        optimizer.zero_grad()\n",
        "        token_ids = token_ids.long().to(device)\n",
        "        segment_ids = segment_ids.long().to(device)\n",
        "        valid_length= valid_length\n",
        "        label = label.long().to(device)\n",
        "        out = model(token_ids, valid_length, segment_ids)\n",
        "        loss = loss_fn(out, label)\n",
        "        loss.backward()\n",
        "        torch.nn.utils.clip_grad_norm_(model.parameters(), max_grad_norm)\n",
        "        optimizer.step()\n",
        "        scheduler.step()  # Update learning rate schedule\n",
        "        train_acc += calc_accuracy(out, label)\n",
        "        if batch_id % log_interval == 0:\n",
        "            print(\"epoch {} batch id {} loss {} train acc {}\".format(e+1, batch_id+1, loss.data.cpu().numpy(), train_acc / (batch_id+1)))\n",
        "    print(\"epoch {} train acc {}\".format(e+1, train_acc / (batch_id+1)))\n",
        "    model.eval()\n",
        "    for batch_id, (token_ids, valid_length, segment_ids, label) in enumerate(tqdm_notebook(test_dataloader)):\n",
        "        token_ids = token_ids.long().to(device)\n",
        "        segment_ids = segment_ids.long().to(device)\n",
        "        valid_length= valid_length\n",
        "        label = label.long().to(device)\n",
        "        out = model(token_ids, valid_length, segment_ids)\n",
        "        test_acc += calc_accuracy(out, label)\n",
        "    print(\"epoch {} validation acc {}\".format(e+1, test_acc / (batch_id+1)))"
      ]
    },
    {
      "cell_type": "code",
      "source": [
        "def softmax(vals, idx):\n",
        "    valscpu = vals.cpu().detach().squeeze(0)\n",
        "    a = 0\n",
        "    for i in valscpu:\n",
        "        a += np.exp(i)\n",
        "    return ((np.exp(valscpu[idx]))/a).item() * 100\n",
        "\n",
        "def testModel(model, seq):\n",
        "\n",
        "    tmp = [seq]\n",
        "    transform = nlp.data.BERTSentenceTransform(tok, max_len, pad=True, pair=False)\n",
        "    tokenized = transform(tmp)\n",
        "\n",
        "    model.eval()\n",
        "    result = model(torch.tensor([tokenized[0]]).to(device), [tokenized[1]], torch.tensor(tokenized[2]).to(device))\n",
        "    idx = result.argmax().cpu().item()\n",
        "    print(\"category:\", labels[idx])\n",
        "    print(\"accuracy:\", \"{:.2f}%\".format(softmax(result,idx)))"
      ],
      "metadata": {
        "id": "O9XjYqeA9QLD"
      },
      "execution_count": null,
      "outputs": []
    },
    {
      "cell_type": "markdown",
      "source": [
        "모델 테스트 "
      ],
      "metadata": {
        "id": "LlW3uWDjdx8T"
      }
    },
    {
      "cell_type": "code",
      "source": [
        "testModel(model, \"겨우 13건 신청…'양육비 미지급자 공개' 유명무실\")\n",
        "\n",
        "#https://www.sedaily.com/NewsView/2623NRMOF3 실제 뉴스는 '사회' 카테고리였음 "
      ],
      "metadata": {
        "id": "B5Y7g-HV9STN"
      },
      "execution_count": null,
      "outputs": []
    },
    {
      "cell_type": "code",
      "source": [
        "testModel(model, \"“여가부 없애려는 한국 보수, 자기개혁 실패 보여주는 결정적 사례\")\n",
        "\n",
        "#https://www.sedaily.com/NewsView/2623NRMOF3 실제 뉴스는 '사회' 카테고리였음 "
      ],
      "metadata": {
        "id": "H-_Jd15WuweG"
      },
      "execution_count": null,
      "outputs": []
    },
    {
      "cell_type": "code",
      "source": [
        ""
      ],
      "metadata": {
        "id": "5SOrmjGo0rLq"
      },
      "execution_count": null,
      "outputs": []
    }
  ],
  "metadata": {
    "colab": {
      "collapsed_sections": [],
      "name": "CP2_기업협업_넥스트랩(1)_뉴스카테고리분류.ipynb",
      "provenance": [],
      "authorship_tag": "ABX9TyPp52XphPFr9uKtvIMZYw9A",
      "include_colab_link": true
    },
    "kernelspec": {
      "display_name": "Python 3",
      "name": "python3"
    },
    "language_info": {
      "name": "python"
    },
    "accelerator": "GPU",
    "widgets": {
      "application/vnd.jupyter.widget-state+json": {
        "4b8c2e03c28d4404a77fd81764b0df2b": {
          "model_module": "@jupyter-widgets/controls",
          "model_name": "HBoxModel",
          "model_module_version": "1.5.0",
          "state": {
            "_dom_classes": [],
            "_model_module": "@jupyter-widgets/controls",
            "_model_module_version": "1.5.0",
            "_model_name": "HBoxModel",
            "_view_count": null,
            "_view_module": "@jupyter-widgets/controls",
            "_view_module_version": "1.5.0",
            "_view_name": "HBoxView",
            "box_style": "",
            "children": [
              "IPY_MODEL_1f8e389977494c49822f796f42de9f1f",
              "IPY_MODEL_a2ef9f7d0f6742e7a883bb0acb7a88da",
              "IPY_MODEL_3c625a6ab3c143a9b416a79db966c636"
            ],
            "layout": "IPY_MODEL_c9ee89deca764626be206153b375baaa"
          }
        },
        "1f8e389977494c49822f796f42de9f1f": {
          "model_module": "@jupyter-widgets/controls",
          "model_name": "HTMLModel",
          "model_module_version": "1.5.0",
          "state": {
            "_dom_classes": [],
            "_model_module": "@jupyter-widgets/controls",
            "_model_module_version": "1.5.0",
            "_model_name": "HTMLModel",
            "_view_count": null,
            "_view_module": "@jupyter-widgets/controls",
            "_view_module_version": "1.5.0",
            "_view_name": "HTMLView",
            "description": "",
            "description_tooltip": null,
            "layout": "IPY_MODEL_d9f6fd1185f24f11a210796e484ea84d",
            "placeholder": "​",
            "style": "IPY_MODEL_65c0ae4ec79641e8a9ef39f9ed4a193e",
            "value": "  0%"
          }
        },
        "a2ef9f7d0f6742e7a883bb0acb7a88da": {
          "model_module": "@jupyter-widgets/controls",
          "model_name": "FloatProgressModel",
          "model_module_version": "1.5.0",
          "state": {
            "_dom_classes": [],
            "_model_module": "@jupyter-widgets/controls",
            "_model_module_version": "1.5.0",
            "_model_name": "FloatProgressModel",
            "_view_count": null,
            "_view_module": "@jupyter-widgets/controls",
            "_view_module_version": "1.5.0",
            "_view_name": "ProgressView",
            "bar_style": "danger",
            "description": "",
            "description_tooltip": null,
            "layout": "IPY_MODEL_b674d4f224b34fb3a6fcdd81116f55ff",
            "max": 1463,
            "min": 0,
            "orientation": "horizontal",
            "style": "IPY_MODEL_c504275daffe467db0059e602fd2280f",
            "value": 0
          }
        },
        "3c625a6ab3c143a9b416a79db966c636": {
          "model_module": "@jupyter-widgets/controls",
          "model_name": "HTMLModel",
          "model_module_version": "1.5.0",
          "state": {
            "_dom_classes": [],
            "_model_module": "@jupyter-widgets/controls",
            "_model_module_version": "1.5.0",
            "_model_name": "HTMLModel",
            "_view_count": null,
            "_view_module": "@jupyter-widgets/controls",
            "_view_module_version": "1.5.0",
            "_view_name": "HTMLView",
            "description": "",
            "description_tooltip": null,
            "layout": "IPY_MODEL_df8d4160b22a4c20b73df64f2287a67e",
            "placeholder": "​",
            "style": "IPY_MODEL_fb8ec2d07cdd4a9db3e267e1f3fe0d40",
            "value": " 0/1463 [00:00&lt;?, ?it/s]"
          }
        },
        "c9ee89deca764626be206153b375baaa": {
          "model_module": "@jupyter-widgets/base",
          "model_name": "LayoutModel",
          "model_module_version": "1.2.0",
          "state": {
            "_model_module": "@jupyter-widgets/base",
            "_model_module_version": "1.2.0",
            "_model_name": "LayoutModel",
            "_view_count": null,
            "_view_module": "@jupyter-widgets/base",
            "_view_module_version": "1.2.0",
            "_view_name": "LayoutView",
            "align_content": null,
            "align_items": null,
            "align_self": null,
            "border": null,
            "bottom": null,
            "display": null,
            "flex": null,
            "flex_flow": null,
            "grid_area": null,
            "grid_auto_columns": null,
            "grid_auto_flow": null,
            "grid_auto_rows": null,
            "grid_column": null,
            "grid_gap": null,
            "grid_row": null,
            "grid_template_areas": null,
            "grid_template_columns": null,
            "grid_template_rows": null,
            "height": null,
            "justify_content": null,
            "justify_items": null,
            "left": null,
            "margin": null,
            "max_height": null,
            "max_width": null,
            "min_height": null,
            "min_width": null,
            "object_fit": null,
            "object_position": null,
            "order": null,
            "overflow": null,
            "overflow_x": null,
            "overflow_y": null,
            "padding": null,
            "right": null,
            "top": null,
            "visibility": null,
            "width": null
          }
        },
        "d9f6fd1185f24f11a210796e484ea84d": {
          "model_module": "@jupyter-widgets/base",
          "model_name": "LayoutModel",
          "model_module_version": "1.2.0",
          "state": {
            "_model_module": "@jupyter-widgets/base",
            "_model_module_version": "1.2.0",
            "_model_name": "LayoutModel",
            "_view_count": null,
            "_view_module": "@jupyter-widgets/base",
            "_view_module_version": "1.2.0",
            "_view_name": "LayoutView",
            "align_content": null,
            "align_items": null,
            "align_self": null,
            "border": null,
            "bottom": null,
            "display": null,
            "flex": null,
            "flex_flow": null,
            "grid_area": null,
            "grid_auto_columns": null,
            "grid_auto_flow": null,
            "grid_auto_rows": null,
            "grid_column": null,
            "grid_gap": null,
            "grid_row": null,
            "grid_template_areas": null,
            "grid_template_columns": null,
            "grid_template_rows": null,
            "height": null,
            "justify_content": null,
            "justify_items": null,
            "left": null,
            "margin": null,
            "max_height": null,
            "max_width": null,
            "min_height": null,
            "min_width": null,
            "object_fit": null,
            "object_position": null,
            "order": null,
            "overflow": null,
            "overflow_x": null,
            "overflow_y": null,
            "padding": null,
            "right": null,
            "top": null,
            "visibility": null,
            "width": null
          }
        },
        "65c0ae4ec79641e8a9ef39f9ed4a193e": {
          "model_module": "@jupyter-widgets/controls",
          "model_name": "DescriptionStyleModel",
          "model_module_version": "1.5.0",
          "state": {
            "_model_module": "@jupyter-widgets/controls",
            "_model_module_version": "1.5.0",
            "_model_name": "DescriptionStyleModel",
            "_view_count": null,
            "_view_module": "@jupyter-widgets/base",
            "_view_module_version": "1.2.0",
            "_view_name": "StyleView",
            "description_width": ""
          }
        },
        "b674d4f224b34fb3a6fcdd81116f55ff": {
          "model_module": "@jupyter-widgets/base",
          "model_name": "LayoutModel",
          "model_module_version": "1.2.0",
          "state": {
            "_model_module": "@jupyter-widgets/base",
            "_model_module_version": "1.2.0",
            "_model_name": "LayoutModel",
            "_view_count": null,
            "_view_module": "@jupyter-widgets/base",
            "_view_module_version": "1.2.0",
            "_view_name": "LayoutView",
            "align_content": null,
            "align_items": null,
            "align_self": null,
            "border": null,
            "bottom": null,
            "display": null,
            "flex": null,
            "flex_flow": null,
            "grid_area": null,
            "grid_auto_columns": null,
            "grid_auto_flow": null,
            "grid_auto_rows": null,
            "grid_column": null,
            "grid_gap": null,
            "grid_row": null,
            "grid_template_areas": null,
            "grid_template_columns": null,
            "grid_template_rows": null,
            "height": null,
            "justify_content": null,
            "justify_items": null,
            "left": null,
            "margin": null,
            "max_height": null,
            "max_width": null,
            "min_height": null,
            "min_width": null,
            "object_fit": null,
            "object_position": null,
            "order": null,
            "overflow": null,
            "overflow_x": null,
            "overflow_y": null,
            "padding": null,
            "right": null,
            "top": null,
            "visibility": null,
            "width": null
          }
        },
        "c504275daffe467db0059e602fd2280f": {
          "model_module": "@jupyter-widgets/controls",
          "model_name": "ProgressStyleModel",
          "model_module_version": "1.5.0",
          "state": {
            "_model_module": "@jupyter-widgets/controls",
            "_model_module_version": "1.5.0",
            "_model_name": "ProgressStyleModel",
            "_view_count": null,
            "_view_module": "@jupyter-widgets/base",
            "_view_module_version": "1.2.0",
            "_view_name": "StyleView",
            "bar_color": null,
            "description_width": ""
          }
        },
        "df8d4160b22a4c20b73df64f2287a67e": {
          "model_module": "@jupyter-widgets/base",
          "model_name": "LayoutModel",
          "model_module_version": "1.2.0",
          "state": {
            "_model_module": "@jupyter-widgets/base",
            "_model_module_version": "1.2.0",
            "_model_name": "LayoutModel",
            "_view_count": null,
            "_view_module": "@jupyter-widgets/base",
            "_view_module_version": "1.2.0",
            "_view_name": "LayoutView",
            "align_content": null,
            "align_items": null,
            "align_self": null,
            "border": null,
            "bottom": null,
            "display": null,
            "flex": null,
            "flex_flow": null,
            "grid_area": null,
            "grid_auto_columns": null,
            "grid_auto_flow": null,
            "grid_auto_rows": null,
            "grid_column": null,
            "grid_gap": null,
            "grid_row": null,
            "grid_template_areas": null,
            "grid_template_columns": null,
            "grid_template_rows": null,
            "height": null,
            "justify_content": null,
            "justify_items": null,
            "left": null,
            "margin": null,
            "max_height": null,
            "max_width": null,
            "min_height": null,
            "min_width": null,
            "object_fit": null,
            "object_position": null,
            "order": null,
            "overflow": null,
            "overflow_x": null,
            "overflow_y": null,
            "padding": null,
            "right": null,
            "top": null,
            "visibility": null,
            "width": null
          }
        },
        "fb8ec2d07cdd4a9db3e267e1f3fe0d40": {
          "model_module": "@jupyter-widgets/controls",
          "model_name": "DescriptionStyleModel",
          "model_module_version": "1.5.0",
          "state": {
            "_model_module": "@jupyter-widgets/controls",
            "_model_module_version": "1.5.0",
            "_model_name": "DescriptionStyleModel",
            "_view_count": null,
            "_view_module": "@jupyter-widgets/base",
            "_view_module_version": "1.2.0",
            "_view_name": "StyleView",
            "description_width": ""
          }
        }
      }
    }
  },
  "nbformat": 4,
  "nbformat_minor": 0
}